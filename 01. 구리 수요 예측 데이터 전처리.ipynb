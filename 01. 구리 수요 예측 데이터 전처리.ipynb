{
 "cells": [
  {
   "cell_type": "markdown",
   "id": "caa244bd",
   "metadata": {},
   "source": [
    "# 패키지 다운로드"
   ]
  },
  {
   "cell_type": "code",
   "execution_count": 2,
   "id": "bf7441ff",
   "metadata": {},
   "outputs": [],
   "source": [
    "import pandas as pd \n",
    "import numpy as np \n",
    "import warnings\n",
    "\n",
    "warnings.filterwarnings('ignore') # warning 문구 안보이게"
   ]
  },
  {
   "cell_type": "markdown",
   "id": "7c920cc9",
   "metadata": {},
   "source": [
    "# 데이터 로딩 및 전처리"
   ]
  },
  {
   "cell_type": "markdown",
   "id": "381ca351",
   "metadata": {},
   "source": [
    "## 독립변수"
   ]
  },
  {
   "cell_type": "markdown",
   "id": "e2854701",
   "metadata": {},
   "source": [
    "### HSI"
   ]
  },
  {
   "cell_type": "code",
   "execution_count": 16,
   "id": "8d1acaa4",
   "metadata": {},
   "outputs": [
    {
     "data": {
      "text/html": [
       "<div>\n",
       "<style scoped>\n",
       "    .dataframe tbody tr th:only-of-type {\n",
       "        vertical-align: middle;\n",
       "    }\n",
       "\n",
       "    .dataframe tbody tr th {\n",
       "        vertical-align: top;\n",
       "    }\n",
       "\n",
       "    .dataframe thead th {\n",
       "        text-align: right;\n",
       "    }\n",
       "</style>\n",
       "<table border=\"1\" class=\"dataframe\">\n",
       "  <thead>\n",
       "    <tr style=\"text-align: right;\">\n",
       "      <th></th>\n",
       "      <th>Date</th>\n",
       "      <th>Value</th>\n",
       "    </tr>\n",
       "  </thead>\n",
       "  <tbody>\n",
       "    <tr>\n",
       "      <th>0</th>\n",
       "      <td>1990-01-31</td>\n",
       "      <td>1551</td>\n",
       "    </tr>\n",
       "    <tr>\n",
       "      <th>1</th>\n",
       "      <td>1990-02-28</td>\n",
       "      <td>1437</td>\n",
       "    </tr>\n",
       "    <tr>\n",
       "      <th>2</th>\n",
       "      <td>1990-03-31</td>\n",
       "      <td>1289</td>\n",
       "    </tr>\n",
       "    <tr>\n",
       "      <th>3</th>\n",
       "      <td>1990-04-30</td>\n",
       "      <td>1248</td>\n",
       "    </tr>\n",
       "    <tr>\n",
       "      <th>4</th>\n",
       "      <td>1990-05-31</td>\n",
       "      <td>1212</td>\n",
       "    </tr>\n",
       "  </tbody>\n",
       "</table>\n",
       "</div>"
      ],
      "text/plain": [
       "         Date  Value\n",
       "0  1990-01-31   1551\n",
       "1  1990-02-28   1437\n",
       "2  1990-03-31   1289\n",
       "3  1990-04-30   1248\n",
       "4  1990-05-31   1212"
      ]
     },
     "execution_count": 16,
     "metadata": {},
     "output_type": "execute_result"
    }
   ],
   "source": [
    "# 데이터 읽어오기 : pd.read_csv('filepath')\n",
    "HSI=pd.read_csv('./구리 수요/(수요) Housing_Starts_Index_May_2023.csv')\n",
    "\n",
    "# 데이터 테이블 구조 확인 -> Unnamed:2 라는 불필요한 컬럼 존재 \n",
    "HSI.head()\n",
    "#HSI.columns\n",
    "\n",
    "# 불필요한 컬럼 삭제: DataFrame.drop('축 이름',axis=0 or 1) \n",
    "HSI=HSI.drop('Unnamed: 2',axis=1)\n",
    "\n",
    "# 재확인 \n",
    "HSI.head()"
   ]
  },
  {
   "cell_type": "markdown",
   "id": "b11e93ef",
   "metadata": {},
   "source": [
    "### IPI "
   ]
  },
  {
   "cell_type": "code",
   "execution_count": 23,
   "id": "17794390",
   "metadata": {},
   "outputs": [
    {
     "data": {
      "text/html": [
       "<div>\n",
       "<style scoped>\n",
       "    .dataframe tbody tr th:only-of-type {\n",
       "        vertical-align: middle;\n",
       "    }\n",
       "\n",
       "    .dataframe tbody tr th {\n",
       "        vertical-align: top;\n",
       "    }\n",
       "\n",
       "    .dataframe thead th {\n",
       "        text-align: right;\n",
       "    }\n",
       "</style>\n",
       "<table border=\"1\" class=\"dataframe\">\n",
       "  <thead>\n",
       "    <tr style=\"text-align: right;\">\n",
       "      <th></th>\n",
       "      <th>DATE</th>\n",
       "      <th>IPI_value</th>\n",
       "    </tr>\n",
       "  </thead>\n",
       "  <tbody>\n",
       "    <tr>\n",
       "      <th>0</th>\n",
       "      <td>1990-01-01</td>\n",
       "      <td>61.6440</td>\n",
       "    </tr>\n",
       "    <tr>\n",
       "      <th>1</th>\n",
       "      <td>1990-02-01</td>\n",
       "      <td>62.2108</td>\n",
       "    </tr>\n",
       "    <tr>\n",
       "      <th>2</th>\n",
       "      <td>1990-03-01</td>\n",
       "      <td>62.5068</td>\n",
       "    </tr>\n",
       "    <tr>\n",
       "      <th>3</th>\n",
       "      <td>1990-04-01</td>\n",
       "      <td>62.3597</td>\n",
       "    </tr>\n",
       "    <tr>\n",
       "      <th>4</th>\n",
       "      <td>1990-05-01</td>\n",
       "      <td>62.5474</td>\n",
       "    </tr>\n",
       "  </tbody>\n",
       "</table>\n",
       "</div>"
      ],
      "text/plain": [
       "         DATE  IPI_value\n",
       "0  1990-01-01    61.6440\n",
       "1  1990-02-01    62.2108\n",
       "2  1990-03-01    62.5068\n",
       "3  1990-04-01    62.3597\n",
       "4  1990-05-01    62.5474"
      ]
     },
     "execution_count": 23,
     "metadata": {},
     "output_type": "execute_result"
    }
   ],
   "source": [
    "IPI=pd.read_csv('./구리 수요/(수요) Industrial Production Total Index_INDPRO.csv')\n",
    "IPI.head()\n",
    "\n",
    "# 컬럼명 변경 : \n",
    "IPI.rename(columns={'INDPRO' : 'IPI_value'}, inplace=True) \n",
    "IPI.head()"
   ]
  },
  {
   "cell_type": "markdown",
   "id": "88cd1931",
   "metadata": {},
   "source": [
    "### GDP"
   ]
  },
  {
   "cell_type": "code",
   "execution_count": 60,
   "id": "e18a014a",
   "metadata": {},
   "outputs": [
    {
     "name": "stdout",
     "output_type": "stream",
     "text": [
      "        Date  GDPC_value\n",
      "0 1990-01-01    9364.259\n",
      "1 1990-02-01    9364.259\n",
      "2 1990-03-01    9364.259\n",
      "3 1990-04-01    9398.243\n",
      "4 1990-05-01    9398.243\n"
     ]
    }
   ],
   "source": [
    "# TimeStamps 를 맞추기 위해 1월 -> 1월 / 2월 / 3월  단순 재가공 \n",
    "temp=pd.read_csv('./구리 수요/(수요) 분기별 Real Gross Domestic Product (GDPC1)1990-2023_JAN.csv')\n",
    "\n",
    "temp.rename(columns={'GDPC1':'GDPC_value'},inplace=True) # inplace=True 잊지말기\n",
    "#print(temp.head()) \n",
    "\n",
    "temp[\"DATE\"]=pd.to_datetime(temp['DATE'])\n",
    "\n",
    "\n",
    "# 각 분기의 데이터를 월별로 확장한 후 합치기 \n",
    "monthly_data=[]\n",
    "for index, row in temp.iterrows():\n",
    "    year=row['DATE'].year\n",
    "    month=row['DATE'].month\n",
    "    gdp=row['GDPC_value'] # 단순 재가공  \n",
    "    for i in range(3):\n",
    "        monthly_data.append({'Date':pd.Timestamp(year,month+i,1), 'GDPC_value':gdp})\n",
    "\n",
    "# 재가공된 월별 데이터 프레임 생성\n",
    "monthly_data=pd.DataFrame(monthly_data)\n",
    "print(monthly_data.head())"
   ]
  },
  {
   "cell_type": "code",
   "execution_count": 63,
   "id": "7a556c6f",
   "metadata": {},
   "outputs": [
    {
     "name": "stdout",
     "output_type": "stream",
     "text": [
      "        Date  GDPC_value\n",
      "0 1990-01-01    9364.259\n",
      "1 1990-02-01    9364.259\n",
      "2 1990-03-01    9364.259\n",
      "3 1990-04-01    9398.243\n",
      "4 1990-05-01    9398.243\n"
     ]
    }
   ],
   "source": [
    "GDP=pd.read_csv('./구리 수요/(수요) 분기별 Real Gross Domestic Product (GDPC1)1990-2023_JAN.csv')\n",
    "\n",
    "GDP.rename(columns={'GDPC1':'GDPC_value'},inplace=True)\n",
    "\n",
    "GDP[\"DATE\"]=pd.to_datetime(temp['DATE']) \n",
    "\n",
    "# 각 분기의 데이터를 월별로 확장한 후 합치기 \n",
    "monthly_data=[]\n",
    "for index, row in GDP.iterrows():\n",
    "    year=row['DATE'].year\n",
    "    month=row['DATE'].month\n",
    "    gdp=row['GDPC_value'] # 단순 재가공  \n",
    "    for i in range(3):\n",
    "        monthly_data.append({'Date':pd.Timestamp(year,month+i,1), 'GDPC_value':gdp}) \n",
    "\n",
    "GDP=pd.DataFrame(monthly_data)\n",
    "print(GDP.head())"
   ]
  },
  {
   "cell_type": "code",
   "execution_count": null,
   "id": "604cdff7",
   "metadata": {},
   "outputs": [],
   "source": []
  }
 ],
 "metadata": {
  "kernelspec": {
   "display_name": "Python 3 (ipykernel)",
   "language": "python",
   "name": "python3"
  },
  "language_info": {
   "codemirror_mode": {
    "name": "ipython",
    "version": 3
   },
   "file_extension": ".py",
   "mimetype": "text/x-python",
   "name": "python",
   "nbconvert_exporter": "python",
   "pygments_lexer": "ipython3",
   "version": "3.11.3"
  },
  "toc": {
   "base_numbering": 1,
   "nav_menu": {},
   "number_sections": true,
   "sideBar": true,
   "skip_h1_title": false,
   "title_cell": "Table of Contents",
   "title_sidebar": "Contents",
   "toc_cell": false,
   "toc_position": {},
   "toc_section_display": true,
   "toc_window_display": false
  }
 },
 "nbformat": 4,
 "nbformat_minor": 5
}
